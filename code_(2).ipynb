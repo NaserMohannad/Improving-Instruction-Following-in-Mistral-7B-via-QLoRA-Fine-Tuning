{
  "metadata": {
    "kernelspec": {
      "language": "python",
      "display_name": "Python 3",
      "name": "python3"
    },
    "language_info": {
      "name": "python",
      "version": "3.11.11",
      "mimetype": "text/x-python",
      "codemirror_mode": {
        "name": "ipython",
        "version": 3
      },
      "pygments_lexer": "ipython3",
      "nbconvert_exporter": "python",
      "file_extension": ".py"
    },
    "kaggle": {
      "accelerator": "gpu",
      "dataSources": [],
      "dockerImageVersionId": 31041,
      "isInternetEnabled": true,
      "language": "python",
      "sourceType": "notebook",
      "isGpuEnabled": true
    },
    "colab": {
      "provenance": []
    }
  },
  "nbformat_minor": 0,
  "nbformat": 4,
  "cells": [
    {
      "cell_type": "code",
      "source": [
        "# This Python 3 environment comes with many helpful analytics libraries installed\n",
        "# It is defined by the kaggle/python Docker image: https://github.com/kaggle/docker-python\n",
        "# For example, here's several helpful packages to load\n",
        "\n",
        "import numpy as np # linear algebra\n",
        "import pandas as pd # data processing, CSV file I/O (e.g. pd.read_csv)\n",
        "\n",
        "# Input data files are available in the read-only \"../input/\" directory\n",
        "# For example, running this (by clicking run or pressing Shift+Enter) will list all files under the input directory\n",
        "\n",
        "import os\n",
        "for dirname, _, filenames in os.walk('/kaggle/input'):\n",
        "    for filename in filenames:\n",
        "        print(os.path.join(dirname, filename))\n",
        "\n",
        "# You can write up to 20GB to the current directory (/kaggle/working/) that gets preserved as output when you create a version using \"Save & Run All\"\n",
        "# You can also write temporary files to /kaggle/temp/, but they won't be saved outside of the current session"
      ],
      "metadata": {
        "_uuid": "8f2839f25d086af736a60e9eeb907d3b93b6e0e5",
        "_cell_guid": "b1076dfc-b9ad-4769-8c92-a6c4dae69d19",
        "trusted": true,
        "execution": {
          "iopub.status.busy": "2025-05-14T23:18:29.942618Z",
          "iopub.execute_input": "2025-05-14T23:18:29.943161Z",
          "iopub.status.idle": "2025-05-14T23:18:29.947708Z",
          "shell.execute_reply.started": "2025-05-14T23:18:29.943138Z",
          "shell.execute_reply": "2025-05-14T23:18:29.947098Z"
        },
        "id": "WivxkoIKk6xe"
      },
      "outputs": [],
      "execution_count": null
    },
    {
      "cell_type": "code",
      "source": [
        "!pip install -U trl transformers datasets peft accelerate bitsandbytes evaluate bert-score rouge_score --quiet"
      ],
      "metadata": {
        "trusted": true,
        "execution": {
          "iopub.status.busy": "2025-05-14T23:18:29.949334Z",
          "iopub.execute_input": "2025-05-14T23:18:29.949754Z",
          "iopub.status.idle": "2025-05-14T23:19:56.368577Z",
          "shell.execute_reply.started": "2025-05-14T23:18:29.949737Z",
          "shell.execute_reply": "2025-05-14T23:19:56.367843Z"
        },
        "id": "Q7CaAqZtk6xg",
        "outputId": "5452db5c-9007-48a1-ee4c-cc4598f1855c"
      },
      "outputs": [
        {
          "name": "stdout",
          "text": "  Preparing metadata (setup.py) ... \u001b[?25l\u001b[?25hdone\n\u001b[2K   \u001b[90m━━━━━━━━━━━━━━━━━━━━━━━━━━━━━━━━━━━━━━━━\u001b[0m \u001b[32m348.0/348.0 kB\u001b[0m \u001b[31m6.9 MB/s\u001b[0m eta \u001b[36m0:00:00\u001b[0ma \u001b[36m0:00:01\u001b[0m\n\u001b[2K   \u001b[90m━━━━━━━━━━━━━━━━━━━━━━━━━━━━━━━━━━━━━━━━\u001b[0m \u001b[32m411.1/411.1 kB\u001b[0m \u001b[31m17.2 MB/s\u001b[0m eta \u001b[36m0:00:00\u001b[0m\n\u001b[2K   \u001b[90m━━━━━━━━━━━━━━━━━━━━━━━━━━━━━━━━━━━━━━━━\u001b[0m \u001b[32m354.7/354.7 kB\u001b[0m \u001b[31m21.6 MB/s\u001b[0m eta \u001b[36m0:00:00\u001b[0m\n\u001b[2K   \u001b[90m━━━━━━━━━━━━━━━━━━━━━━━━━━━━━━━━━━━━━━━━\u001b[0m \u001b[32m76.1/76.1 MB\u001b[0m \u001b[31m23.4 MB/s\u001b[0m eta \u001b[36m0:00:00\u001b[0m:00:01\u001b[0m00:01\u001b[0m\n\u001b[2K   \u001b[90m━━━━━━━━━━━━━━━━━━━━━━━━━━━━━━━━━━━━━━━━\u001b[0m \u001b[32m84.0/84.0 kB\u001b[0m \u001b[31m5.5 MB/s\u001b[0m eta \u001b[36m0:00:00\u001b[0m\n\u001b[2K   \u001b[90m━━━━━━━━━━━━━━━━━━━━━━━━━━━━━━━━━━━━━━━━\u001b[0m \u001b[32m61.1/61.1 kB\u001b[0m \u001b[31m4.0 MB/s\u001b[0m eta \u001b[36m0:00:00\u001b[0m\n\u001b[2K   \u001b[90m━━━━━━━━━━━━━━━━━━━━━━━━━━━━━━━━━━━━━━━━\u001b[0m \u001b[32m193.6/193.6 kB\u001b[0m \u001b[31m13.8 MB/s\u001b[0m eta \u001b[36m0:00:00\u001b[0m\n\u001b[2K   \u001b[90m━━━━━━━━━━━━━━━━━━━━━━━━━━━━━━━━━━━━━━━━\u001b[0m \u001b[32m363.4/363.4 MB\u001b[0m \u001b[31m4.7 MB/s\u001b[0m eta \u001b[36m0:00:00\u001b[0m0:00:01\u001b[0m00:01\u001b[0m\n\u001b[2K   \u001b[90m━━━━━━━━━━━━━━━━━━━━━━━━━━━━━━━━━━━━━━━━\u001b[0m \u001b[32m664.8/664.8 MB\u001b[0m \u001b[31m2.6 MB/s\u001b[0m eta \u001b[36m0:00:00\u001b[0m0:00:01\u001b[0m00:01\u001b[0m\n\u001b[2K   \u001b[90m━━━━━━━━━━━━━━━━━━━━━━━━━━━━━━━━━━━━━━━━\u001b[0m \u001b[32m211.5/211.5 MB\u001b[0m \u001b[31m5.7 MB/s\u001b[0m eta \u001b[36m0:00:00\u001b[0m0:00:01\u001b[0m00:01\u001b[0m\n\u001b[2K   \u001b[90m━━━━━━━━━━━━━━━━━━━━━━━━━━━━━━━━━━━━━━━━\u001b[0m \u001b[32m56.3/56.3 MB\u001b[0m \u001b[31m31.3 MB/s\u001b[0m eta \u001b[36m0:00:00\u001b[0m:00:01\u001b[0m00:01\u001b[0m\n\u001b[2K   \u001b[90m━━━━━━━━━━━━━━━━━━━━━━━━━━━━━━━━━━━━━━━━\u001b[0m \u001b[32m127.9/127.9 MB\u001b[0m \u001b[31m13.5 MB/s\u001b[0m eta \u001b[36m0:00:00\u001b[0m:00:01\u001b[0m00:01\u001b[0m\n\u001b[2K   \u001b[90m━━━━━━━━━━━━━━━━━━━━━━━━━━━━━━━━━━━━━━━━\u001b[0m \u001b[32m207.5/207.5 MB\u001b[0m \u001b[31m1.8 MB/s\u001b[0m eta \u001b[36m0:00:00\u001b[0m0:00:01\u001b[0m00:01\u001b[0m\n\u001b[2K   \u001b[90m━━━━━━━━━━━━━━━━━━━━━━━━━━━━━━━━━━━━━━━━\u001b[0m \u001b[32m21.1/21.1 MB\u001b[0m \u001b[31m34.0 MB/s\u001b[0m eta \u001b[36m0:00:00\u001b[0m:00:01\u001b[0m00:01\u001b[0m\n\u001b[?25h  Building wheel for rouge_score (setup.py) ... \u001b[?25l\u001b[?25hdone\n\u001b[31mERROR: pip's dependency resolver does not currently take into account all the packages that are installed. This behaviour is the source of the following dependency conflicts.\ncesium 0.12.4 requires numpy<3.0,>=2.0, but you have numpy 1.26.4 which is incompatible.\nbigframes 1.42.0 requires rich<14,>=12.4.4, but you have rich 14.0.0 which is incompatible.\ngcsfs 2025.3.2 requires fsspec==2025.3.2, but you have fsspec 2025.3.0 which is incompatible.\u001b[0m\u001b[31m\n\u001b[0m",
          "output_type": "stream"
        }
      ],
      "execution_count": null
    },
    {
      "cell_type": "code",
      "source": [
        "from huggingface_hub import login\n",
        "\n",
        "login(token=\"My secret token\")"
      ],
      "metadata": {
        "trusted": true,
        "execution": {
          "iopub.status.busy": "2025-05-14T23:19:56.370256Z",
          "iopub.execute_input": "2025-05-14T23:19:56.370536Z",
          "iopub.status.idle": "2025-05-14T23:19:56.588068Z",
          "shell.execute_reply.started": "2025-05-14T23:19:56.370511Z",
          "shell.execute_reply": "2025-05-14T23:19:56.587542Z"
        },
        "id": "fTXTlxXek6xg"
      },
      "outputs": [],
      "execution_count": null
    },
    {
      "cell_type": "code",
      "source": [
        "from transformers import AutoModelForCausalLM, AutoTokenizer, BitsAndBytesConfig\n",
        "\n",
        "model_name = \"mistralai/Mistral-7B-Instruct-v0.1\"\n",
        "\n",
        "bnb_config = BitsAndBytesConfig(\n",
        "    load_in_4bit=True,\n",
        "    bnb_4bit_quant_type=\"nf4\",\n",
        "    bnb_4bit_use_double_quant=True,\n",
        ")\n",
        "\n",
        "tokenizer = AutoTokenizer.from_pretrained(model_name)\n",
        "model = AutoModelForCausalLM.from_pretrained(model_name, quantization_config=bnb_config, device_map=\"auto\")\n"
      ],
      "metadata": {
        "trusted": true,
        "execution": {
          "iopub.status.busy": "2025-05-14T23:19:56.588676Z",
          "iopub.execute_input": "2025-05-14T23:19:56.588913Z",
          "iopub.status.idle": "2025-05-14T23:21:53.323724Z",
          "shell.execute_reply.started": "2025-05-14T23:19:56.588895Z",
          "shell.execute_reply": "2025-05-14T23:21:53.323150Z"
        },
        "id": "9R47NTKzk6xh",
        "outputId": "ba2df423-ff31-4d17-9bf0-82694c59ec99",
        "colab": {
          "referenced_widgets": [
            "f44529f228e644c79ae1eedba8f4ae1a",
            "b7c0a3c469014c0d81420e292048f6f9",
            "ed993dbf316c4f0e85a93851dc6dbb07",
            "5b1599029c6b4310b908270a25055ee7",
            "6a8402de163b43bc8f441ff1b9fba313",
            "4d2792fead8640298a11d1e1c95b23e8",
            "7b0d11653a0d43f3b2dd34c2d1daf3d6",
            "06f59785272449ac89d90d3f076366b2",
            "76c1b4f9ca664ba49e09a06c4a0da717",
            "aa17da59022d4bc99e6edafc9be70c32",
            "4bfc2e083ef649b684be89ae6e479805"
          ]
        }
      },
      "outputs": [
        {
          "output_type": "display_data",
          "data": {
            "text/plain": "tokenizer_config.json:   0%|          | 0.00/2.10k [00:00<?, ?B/s]",
            "application/vnd.jupyter.widget-view+json": {
              "version_major": 2,
              "version_minor": 0,
              "model_id": "f44529f228e644c79ae1eedba8f4ae1a"
            }
          },
          "metadata": {}
        },
        {
          "output_type": "display_data",
          "data": {
            "text/plain": "tokenizer.model:   0%|          | 0.00/493k [00:00<?, ?B/s]",
            "application/vnd.jupyter.widget-view+json": {
              "version_major": 2,
              "version_minor": 0,
              "model_id": "b7c0a3c469014c0d81420e292048f6f9"
            }
          },
          "metadata": {}
        },
        {
          "output_type": "display_data",
          "data": {
            "text/plain": "tokenizer.json:   0%|          | 0.00/1.80M [00:00<?, ?B/s]",
            "application/vnd.jupyter.widget-view+json": {
              "version_major": 2,
              "version_minor": 0,
              "model_id": "ed993dbf316c4f0e85a93851dc6dbb07"
            }
          },
          "metadata": {}
        },
        {
          "output_type": "display_data",
          "data": {
            "text/plain": "special_tokens_map.json:   0%|          | 0.00/414 [00:00<?, ?B/s]",
            "application/vnd.jupyter.widget-view+json": {
              "version_major": 2,
              "version_minor": 0,
              "model_id": "5b1599029c6b4310b908270a25055ee7"
            }
          },
          "metadata": {}
        },
        {
          "output_type": "display_data",
          "data": {
            "text/plain": "config.json:   0%|          | 0.00/571 [00:00<?, ?B/s]",
            "application/vnd.jupyter.widget-view+json": {
              "version_major": 2,
              "version_minor": 0,
              "model_id": "6a8402de163b43bc8f441ff1b9fba313"
            }
          },
          "metadata": {}
        },
        {
          "name": "stderr",
          "text": "2025-05-14 23:20:13.463403: E external/local_xla/xla/stream_executor/cuda/cuda_fft.cc:477] Unable to register cuFFT factory: Attempting to register factory for plugin cuFFT when one has already been registered\nWARNING: All log messages before absl::InitializeLog() is called are written to STDERR\nE0000 00:00:1747264813.653529      35 cuda_dnn.cc:8310] Unable to register cuDNN factory: Attempting to register factory for plugin cuDNN when one has already been registered\nE0000 00:00:1747264813.707363      35 cuda_blas.cc:1418] Unable to register cuBLAS factory: Attempting to register factory for plugin cuBLAS when one has already been registered\n",
          "output_type": "stream"
        },
        {
          "output_type": "display_data",
          "data": {
            "text/plain": "model.safetensors.index.json:   0%|          | 0.00/25.1k [00:00<?, ?B/s]",
            "application/vnd.jupyter.widget-view+json": {
              "version_major": 2,
              "version_minor": 0,
              "model_id": "4d2792fead8640298a11d1e1c95b23e8"
            }
          },
          "metadata": {}
        },
        {
          "output_type": "display_data",
          "data": {
            "text/plain": "Fetching 2 files:   0%|          | 0/2 [00:00<?, ?it/s]",
            "application/vnd.jupyter.widget-view+json": {
              "version_major": 2,
              "version_minor": 0,
              "model_id": "7b0d11653a0d43f3b2dd34c2d1daf3d6"
            }
          },
          "metadata": {}
        },
        {
          "output_type": "display_data",
          "data": {
            "text/plain": "model-00002-of-00002.safetensors:   0%|          | 0.00/4.54G [00:00<?, ?B/s]",
            "application/vnd.jupyter.widget-view+json": {
              "version_major": 2,
              "version_minor": 0,
              "model_id": "06f59785272449ac89d90d3f076366b2"
            }
          },
          "metadata": {}
        },
        {
          "output_type": "display_data",
          "data": {
            "text/plain": "model-00001-of-00002.safetensors:   0%|          | 0.00/9.94G [00:00<?, ?B/s]",
            "application/vnd.jupyter.widget-view+json": {
              "version_major": 2,
              "version_minor": 0,
              "model_id": "76c1b4f9ca664ba49e09a06c4a0da717"
            }
          },
          "metadata": {}
        },
        {
          "output_type": "display_data",
          "data": {
            "text/plain": "Loading checkpoint shards:   0%|          | 0/2 [00:00<?, ?it/s]",
            "application/vnd.jupyter.widget-view+json": {
              "version_major": 2,
              "version_minor": 0,
              "model_id": "aa17da59022d4bc99e6edafc9be70c32"
            }
          },
          "metadata": {}
        },
        {
          "output_type": "display_data",
          "data": {
            "text/plain": "generation_config.json:   0%|          | 0.00/116 [00:00<?, ?B/s]",
            "application/vnd.jupyter.widget-view+json": {
              "version_major": 2,
              "version_minor": 0,
              "model_id": "4bfc2e083ef649b684be89ae6e479805"
            }
          },
          "metadata": {}
        }
      ],
      "execution_count": null
    },
    {
      "cell_type": "code",
      "source": [
        "from peft import prepare_model_for_kbit_training, LoraConfig, get_peft_model\n",
        "\n",
        "model = prepare_model_for_kbit_training(model)\n",
        "\n",
        "lora_config = LoraConfig(\n",
        "    r=8,\n",
        "    lora_alpha=32,\n",
        "    target_modules=[\"q_proj\", \"k_proj\", \"v_proj\", \"o_proj\"],\n",
        "    lora_dropout=0.05,\n",
        "    bias=\"none\",\n",
        "    task_type=\"CAUSAL_LM\"\n",
        ")\n",
        "\n",
        "model = get_peft_model(model, lora_config)\n"
      ],
      "metadata": {
        "trusted": true,
        "execution": {
          "iopub.status.busy": "2025-05-14T23:21:53.325532Z",
          "iopub.execute_input": "2025-05-14T23:21:53.326382Z",
          "iopub.status.idle": "2025-05-14T23:21:53.648666Z",
          "shell.execute_reply.started": "2025-05-14T23:21:53.326362Z",
          "shell.execute_reply": "2025-05-14T23:21:53.648106Z"
        },
        "id": "WZM5CWTUk6xh"
      },
      "outputs": [],
      "execution_count": null
    },
    {
      "cell_type": "code",
      "source": [
        "from datasets import load_dataset\n",
        "\n",
        "dataset = load_dataset(\"tatsu-lab/alpaca\", split=\"train[:2000]\")"
      ],
      "metadata": {
        "trusted": true,
        "execution": {
          "iopub.status.busy": "2025-05-14T23:24:48.366027Z",
          "iopub.execute_input": "2025-05-14T23:24:48.366292Z",
          "iopub.status.idle": "2025-05-14T23:24:50.783219Z",
          "shell.execute_reply.started": "2025-05-14T23:24:48.366275Z",
          "shell.execute_reply": "2025-05-14T23:24:50.782677Z"
        },
        "id": "PDgNOk6pk6xh"
      },
      "outputs": [],
      "execution_count": null
    },
    {
      "cell_type": "code",
      "source": [
        "instruction = \"Please respond appropriately to the following user instruction.\"\n",
        "\n",
        "chat_template = \"\"\"<|begin_of_text|>\n",
        "{% for message in messages %}\n",
        "<|start_header_id|>{{ message['role'] }}<|end_header_id|>\n",
        "{{ message['content'] }}<|eot_id|>\n",
        "{% endfor %}\"\"\"\n",
        "\n",
        "def format_chat(row):\n",
        "    messages = [\n",
        "        {\"role\": \"system\", \"content\": instruction},\n",
        "        {\"role\": \"user\", \"content\": row[\"input\"]},\n",
        "        {\"role\": \"assistant\", \"content\": row[\"output\"]}\n",
        "    ]\n",
        "    row[\"text\"] = tokenizer.apply_chat_template(\n",
        "        messages,\n",
        "        chat_template=chat_template,\n",
        "        tokenize=False\n",
        "    )\n",
        "    return row\n",
        "\n",
        "dataset = dataset.map(format_chat, num_proc=4)"
      ],
      "metadata": {
        "trusted": true,
        "execution": {
          "iopub.status.busy": "2025-05-14T23:24:54.949870Z",
          "iopub.execute_input": "2025-05-14T23:24:54.950149Z",
          "iopub.status.idle": "2025-05-14T23:24:55.512478Z",
          "shell.execute_reply.started": "2025-05-14T23:24:54.950130Z",
          "shell.execute_reply": "2025-05-14T23:24:55.511782Z"
        },
        "id": "3JHu8dl-k6xh",
        "outputId": "8373b382-cc9f-4d21-e6fb-b85e0fc7c399",
        "colab": {
          "referenced_widgets": [
            "fc5134065f1f476093cf6b52326742b9"
          ]
        }
      },
      "outputs": [
        {
          "output_type": "display_data",
          "data": {
            "text/plain": "Map (num_proc=4):   0%|          | 0/2000 [00:00<?, ? examples/s]",
            "application/vnd.jupyter.widget-view+json": {
              "version_major": 2,
              "version_minor": 0,
              "model_id": "fc5134065f1f476093cf6b52326742b9"
            }
          },
          "metadata": {}
        }
      ],
      "execution_count": null
    },
    {
      "cell_type": "code",
      "source": [
        "split_dataset = dataset.train_test_split(test_size=0.1, seed=42)\n",
        "train_dataset = split_dataset[\"train\"]\n",
        "eval_dataset = split_dataset[\"test\"]"
      ],
      "metadata": {
        "trusted": true,
        "execution": {
          "iopub.status.busy": "2025-05-14T23:25:00.991619Z",
          "iopub.execute_input": "2025-05-14T23:25:00.992033Z",
          "iopub.status.idle": "2025-05-14T23:25:01.005637Z",
          "shell.execute_reply.started": "2025-05-14T23:25:00.992002Z",
          "shell.execute_reply": "2025-05-14T23:25:01.004954Z"
        },
        "id": "YujiCZHWk6xi"
      },
      "outputs": [],
      "execution_count": null
    },
    {
      "cell_type": "code",
      "source": [
        "import torch, gc\n",
        "from tqdm import tqdm\n",
        "from evaluate import load\n",
        "from bert_score import score as bert_score\n",
        "\n",
        "rouge = load(\"rouge\")\n",
        "\n",
        "def simple_f1(pred, label):\n",
        "    pred_tokens = pred.split()\n",
        "    label_tokens = label.split()\n",
        "    common = set(pred_tokens) & set(label_tokens)\n",
        "\n",
        "    if len(common) == 0:\n",
        "        return 0.0\n",
        "\n",
        "    precision = len(common) / len(pred_tokens)\n",
        "    recall = len(common) / len(label_tokens)\n",
        "\n",
        "    if precision + recall == 0:\n",
        "        return 0.0\n",
        "\n",
        "    return 2 * (precision * recall) / (precision + recall)\n",
        "\n",
        "rouge = load(\"rouge\")\n",
        "\n",
        "def evaluate_model(model, tokenizer, dataset, max_new_tokens=100, batch_size=16):\n",
        "    model.eval()\n",
        "    results = []\n",
        "    f1_scores = []\n",
        "    rouge_preds = []\n",
        "    rouge_labels = []\n",
        "\n",
        "    for i in tqdm(range(0, len(dataset), batch_size)):\n",
        "        batch = dataset[i:i+batch_size]\n",
        "\n",
        "        tokenizer.padding_side = \"left\"\n",
        "        inputs = tokenizer(\n",
        "            batch[\"text\"],\n",
        "            return_tensors=\"pt\",\n",
        "            padding=True,\n",
        "            truncation=True,\n",
        "            max_length=tokenizer.model_max_length,\n",
        "        ).to(model.device)\n",
        "\n",
        "        with torch.no_grad():\n",
        "            outputs = model.generate(\n",
        "                input_ids=inputs[\"input_ids\"],\n",
        "                attention_mask=inputs[\"attention_mask\"],\n",
        "                max_new_tokens=max_new_tokens,\n",
        "                do_sample=False,\n",
        "            )\n",
        "\n",
        "        decoded_preds = tokenizer.batch_decode(outputs, skip_special_tokens=True)\n",
        "        decoded_labels = batch[\"output\"]\n",
        "\n",
        "        for pred, label in zip(decoded_preds, decoded_labels):\n",
        "            pred_clean = pred.strip()\n",
        "            label_clean = label.strip()\n",
        "\n",
        "            f1 = simple_f1(pred_clean, label_clean)\n",
        "            f1_scores.append(f1)\n",
        "\n",
        "            rouge_preds.append(pred_clean)\n",
        "            rouge_labels.append(label_clean)\n",
        "\n",
        "            results.append({\n",
        "                \"prediction\": pred_clean,\n",
        "                \"reference\": label_clean,\n",
        "                \"f1\": f1,\n",
        "            })\n",
        "\n",
        "        del inputs, outputs\n",
        "        torch.cuda.empty_cache()\n",
        "        gc.collect()\n",
        "\n",
        "    avg_f1 = sum(f1_scores) / len(f1_scores)\n",
        "\n",
        "    rouge_result = rouge.compute(predictions=rouge_preds, references=rouge_labels)\n",
        "    rougeL = rouge_result[\"rougeL\"]\n",
        "\n",
        "    P, R, F1 = bert_score(rouge_preds, rouge_labels, lang=\"en\", device=\"cpu\", verbose=False)\n",
        "    avg_bert_f1 = F1.mean().item()\n",
        "\n",
        "    print(f\"\\n Average F1 Score:     {avg_f1:.4f}\")\n",
        "    print(f\" ROUGE-L Score:        {rougeL:.4f}\")\n",
        "    print(f\" BERTScore (F1):       {avg_bert_f1:.4f}\")\n",
        "\n",
        "    return {\n",
        "        \"f1\": avg_f1,\n",
        "        \"rougeL\": rougeL,\n",
        "        \"bertscore_f1\": avg_bert_f1,\n",
        "        \"results\": results\n",
        "    }"
      ],
      "metadata": {
        "trusted": true,
        "execution": {
          "iopub.status.busy": "2025-05-14T23:25:09.795482Z",
          "iopub.execute_input": "2025-05-14T23:25:09.795755Z",
          "iopub.status.idle": "2025-05-14T23:25:14.128519Z",
          "shell.execute_reply.started": "2025-05-14T23:25:09.795736Z",
          "shell.execute_reply": "2025-05-14T23:25:14.127949Z"
        },
        "id": "EtHGp7ndk6xi",
        "outputId": "efd0d4eb-cd23-4806-c009-8fc480f8aaf0",
        "colab": {
          "referenced_widgets": [
            "93d6a0b50346488898ddac2a78dc5637"
          ]
        }
      },
      "outputs": [
        {
          "output_type": "display_data",
          "data": {
            "text/plain": "Downloading builder script:   0%|          | 0.00/6.27k [00:00<?, ?B/s]",
            "application/vnd.jupyter.widget-view+json": {
              "version_major": 2,
              "version_minor": 0,
              "model_id": "93d6a0b50346488898ddac2a78dc5637"
            }
          },
          "metadata": {}
        }
      ],
      "execution_count": null
    },
    {
      "cell_type": "code",
      "source": [
        "tokenizer.pad_token = tokenizer.eos_token\n",
        "\n",
        "def tokenize(batch):\n",
        "    full_texts = [f\"### Instruction:\\n{p}\\n\\n### Response:\\n{o}\" for p, o in zip(batch[\"input\"], batch[\"output\"])]\n",
        "    return tokenizer(full_texts, truncation=True, padding=\"max_length\", max_length=512)\n",
        "\n",
        "tokenized_dataset = dataset.map(tokenize, batched=True)\n",
        "\n"
      ],
      "metadata": {
        "trusted": true,
        "execution": {
          "iopub.status.busy": "2025-05-14T23:25:14.129632Z",
          "iopub.execute_input": "2025-05-14T23:25:14.129917Z",
          "iopub.status.idle": "2025-05-14T23:25:14.926916Z",
          "shell.execute_reply.started": "2025-05-14T23:25:14.129892Z",
          "shell.execute_reply": "2025-05-14T23:25:14.926160Z"
        },
        "id": "3MiqTjJ5k6xi",
        "outputId": "7068cac0-eaa4-45aa-fb40-406b4734a66a",
        "colab": {
          "referenced_widgets": [
            "9f6b1cdda59d4ce5a37a0b8512c13f5a"
          ]
        }
      },
      "outputs": [
        {
          "output_type": "display_data",
          "data": {
            "text/plain": "Map:   0%|          | 0/2000 [00:00<?, ? examples/s]",
            "application/vnd.jupyter.widget-view+json": {
              "version_major": 2,
              "version_minor": 0,
              "model_id": "9f6b1cdda59d4ce5a37a0b8512c13f5a"
            }
          },
          "metadata": {}
        }
      ],
      "execution_count": null
    },
    {
      "cell_type": "code",
      "source": [
        "tokenizer.model_max_length = 1024"
      ],
      "metadata": {
        "trusted": true,
        "execution": {
          "iopub.status.busy": "2025-05-14T23:30:25.819832Z",
          "iopub.execute_input": "2025-05-14T23:30:25.820584Z",
          "iopub.status.idle": "2025-05-14T23:30:25.824277Z",
          "shell.execute_reply.started": "2025-05-14T23:30:25.820552Z",
          "shell.execute_reply": "2025-05-14T23:30:25.823508Z"
        },
        "id": "UWaY1wvLk6xi"
      },
      "outputs": [],
      "execution_count": null
    },
    {
      "cell_type": "code",
      "source": [
        "metrics_before = evaluate_model(model, tokenizer, eval_dataset, max_new_tokens=60)"
      ],
      "metadata": {
        "trusted": true,
        "execution": {
          "iopub.status.busy": "2025-05-14T23:30:29.074782Z",
          "iopub.execute_input": "2025-05-14T23:30:29.075353Z",
          "iopub.status.idle": "2025-05-14T23:42:13.869228Z",
          "shell.execute_reply.started": "2025-05-14T23:30:29.075332Z",
          "shell.execute_reply": "2025-05-14T23:42:13.868532Z"
        },
        "id": "RoAKEwWTk6xi",
        "outputId": "f080fcab-e4eb-4415-b29d-a1210b883973",
        "colab": {
          "referenced_widgets": [
            "58e583c849f2445ea433feab418e81c9",
            "8b7564dbb0ae49d99e8af50c83f64dfd",
            "a0a6c00b1b3c470eb49e1bfc88cdb9c0",
            "4634b03843d44eb6b57d2984a4e3118b",
            "bb91a98ef783437eb8b069d58956d649",
            "2b3d1015829f45109c7fb0df3861ca7e"
          ]
        }
      },
      "outputs": [
        {
          "name": "stderr",
          "text": "  0%|          | 0/13 [00:00<?, ?it/s]Setting `pad_token_id` to `eos_token_id`:2 for open-end generation.\n  8%|▊         | 1/13 [00:36<07:13, 36.14s/it]Setting `pad_token_id` to `eos_token_id`:2 for open-end generation.\n 15%|█▌        | 2/13 [01:17<07:12, 39.34s/it]Setting `pad_token_id` to `eos_token_id`:2 for open-end generation.\n 23%|██▎       | 3/13 [01:49<05:59, 35.95s/it]Setting `pad_token_id` to `eos_token_id`:2 for open-end generation.\n 31%|███       | 4/13 [02:21<05:10, 34.46s/it]Setting `pad_token_id` to `eos_token_id`:2 for open-end generation.\n 38%|███▊      | 5/13 [02:52<04:26, 33.25s/it]Setting `pad_token_id` to `eos_token_id`:2 for open-end generation.\n 46%|████▌     | 6/13 [03:23<03:46, 32.37s/it]Setting `pad_token_id` to `eos_token_id`:2 for open-end generation.\n 54%|█████▍    | 7/13 [03:55<03:13, 32.30s/it]Setting `pad_token_id` to `eos_token_id`:2 for open-end generation.\n 62%|██████▏   | 8/13 [04:26<02:38, 31.65s/it]Setting `pad_token_id` to `eos_token_id`:2 for open-end generation.\n 69%|██████▉   | 9/13 [04:57<02:06, 31.62s/it]Setting `pad_token_id` to `eos_token_id`:2 for open-end generation.\n 77%|███████▋  | 10/13 [05:28<01:33, 31.33s/it]Setting `pad_token_id` to `eos_token_id`:2 for open-end generation.\n 85%|████████▍ | 11/13 [06:04<01:05, 32.80s/it]Setting `pad_token_id` to `eos_token_id`:2 for open-end generation.\n 92%|█████████▏| 12/13 [06:42<00:34, 34.46s/it]Setting `pad_token_id` to `eos_token_id`:2 for open-end generation.\n100%|██████████| 13/13 [07:09<00:00, 33.07s/it]\n",
          "output_type": "stream"
        },
        {
          "output_type": "display_data",
          "data": {
            "text/plain": "tokenizer_config.json:   0%|          | 0.00/25.0 [00:00<?, ?B/s]",
            "application/vnd.jupyter.widget-view+json": {
              "version_major": 2,
              "version_minor": 0,
              "model_id": "58e583c849f2445ea433feab418e81c9"
            }
          },
          "metadata": {}
        },
        {
          "output_type": "display_data",
          "data": {
            "text/plain": "config.json:   0%|          | 0.00/482 [00:00<?, ?B/s]",
            "application/vnd.jupyter.widget-view+json": {
              "version_major": 2,
              "version_minor": 0,
              "model_id": "8b7564dbb0ae49d99e8af50c83f64dfd"
            }
          },
          "metadata": {}
        },
        {
          "output_type": "display_data",
          "data": {
            "text/plain": "vocab.json:   0%|          | 0.00/899k [00:00<?, ?B/s]",
            "application/vnd.jupyter.widget-view+json": {
              "version_major": 2,
              "version_minor": 0,
              "model_id": "a0a6c00b1b3c470eb49e1bfc88cdb9c0"
            }
          },
          "metadata": {}
        },
        {
          "output_type": "display_data",
          "data": {
            "text/plain": "merges.txt:   0%|          | 0.00/456k [00:00<?, ?B/s]",
            "application/vnd.jupyter.widget-view+json": {
              "version_major": 2,
              "version_minor": 0,
              "model_id": "4634b03843d44eb6b57d2984a4e3118b"
            }
          },
          "metadata": {}
        },
        {
          "output_type": "display_data",
          "data": {
            "text/plain": "tokenizer.json:   0%|          | 0.00/1.36M [00:00<?, ?B/s]",
            "application/vnd.jupyter.widget-view+json": {
              "version_major": 2,
              "version_minor": 0,
              "model_id": "bb91a98ef783437eb8b069d58956d649"
            }
          },
          "metadata": {}
        },
        {
          "output_type": "display_data",
          "data": {
            "text/plain": "model.safetensors:   0%|          | 0.00/1.42G [00:00<?, ?B/s]",
            "application/vnd.jupyter.widget-view+json": {
              "version_major": 2,
              "version_minor": 0,
              "model_id": "2b3d1015829f45109c7fb0df3861ca7e"
            }
          },
          "metadata": {}
        },
        {
          "name": "stderr",
          "text": "Some weights of RobertaModel were not initialized from the model checkpoint at roberta-large and are newly initialized: ['pooler.dense.bias', 'pooler.dense.weight']\nYou should probably TRAIN this model on a down-stream task to be able to use it for predictions and inference.\n",
          "output_type": "stream"
        },
        {
          "name": "stdout",
          "text": "\n Average F1 Score:     0.4177\n ROUGE-L Score:        0.4108\n BERTScore (F1):       0.8384\n",
          "output_type": "stream"
        }
      ],
      "execution_count": null
    },
    {
      "cell_type": "code",
      "source": [
        "tokenizer.truncation_side = \"left\"\n",
        "tokenizer.model_max_length = 1024"
      ],
      "metadata": {
        "trusted": true,
        "execution": {
          "iopub.status.busy": "2025-05-14T23:42:13.870415Z",
          "iopub.execute_input": "2025-05-14T23:42:13.870639Z",
          "iopub.status.idle": "2025-05-14T23:42:13.874391Z",
          "shell.execute_reply.started": "2025-05-14T23:42:13.870621Z",
          "shell.execute_reply": "2025-05-14T23:42:13.873742Z"
        },
        "id": "4Jn2YVGxk6xj"
      },
      "outputs": [],
      "execution_count": null
    },
    {
      "cell_type": "code",
      "source": [
        "import os\n",
        "os.environ[\"WANDB_DISABLED\"] = \"true\""
      ],
      "metadata": {
        "trusted": true,
        "execution": {
          "iopub.status.busy": "2025-05-14T23:42:13.875114Z",
          "iopub.execute_input": "2025-05-14T23:42:13.875282Z",
          "iopub.status.idle": "2025-05-14T23:42:13.888618Z",
          "shell.execute_reply.started": "2025-05-14T23:42:13.875270Z",
          "shell.execute_reply": "2025-05-14T23:42:13.888015Z"
        },
        "id": "rIQWoZ6Mk6xj"
      },
      "outputs": [],
      "execution_count": null
    },
    {
      "cell_type": "code",
      "source": [
        "from trl import SFTTrainer, SFTConfig\n",
        "\n",
        "training_args = SFTConfig(\n",
        "    output_dir=\"mistral-symbolic-ft\",\n",
        "    per_device_train_batch_size=4,\n",
        "    per_device_eval_batch_size=1,\n",
        "    gradient_accumulation_steps=2,\n",
        "    learning_rate=2e-4,\n",
        "    num_train_epochs=1,\n",
        "    optim=\"paged_adamw_32bit\",\n",
        "    fp16=True,\n",
        "    bf16=False,\n",
        "    logging_steps=10,\n",
        "    save_strategy=\"epoch\",\n",
        "    eval_strategy=\"no\",\n",
        "    report_to=\"none\"\n",
        ")\n",
        "\n",
        "trainer = SFTTrainer(\n",
        "    model=model,\n",
        "    train_dataset=train_dataset,\n",
        "    eval_dataset=eval_dataset,\n",
        "    peft_config=lora_config,\n",
        "    args=training_args,\n",
        ")\n",
        "\n",
        "trainer.train()\n"
      ],
      "metadata": {
        "trusted": true,
        "execution": {
          "iopub.status.busy": "2025-05-14T23:42:13.890053Z",
          "iopub.execute_input": "2025-05-14T23:42:13.890279Z",
          "iopub.status.idle": "2025-05-15T00:36:15.138232Z",
          "shell.execute_reply.started": "2025-05-14T23:42:13.890259Z",
          "shell.execute_reply": "2025-05-15T00:36:15.137499Z"
        },
        "id": "IYyjQUMCk6xj",
        "outputId": "35dac188-4487-40bf-c070-6f255c569bdf",
        "colab": {
          "referenced_widgets": [
            "0443f43e03ea433da508426ce2a66b0e",
            "bcebbd93f7a148909930f05eb708ad91",
            "89064bea06d34bf89a1d6d042e3b287c",
            "2a7a1162460c41c986ead5fa1d126ba1",
            "bf4b144efe8e4f1dabd5a3f61c804ed5",
            "9f545e958e8a44cd876727a54a43b604",
            "d544f33e6f8a433995cc1e5479b7eba4",
            "be87e7ffe7f84ba5b613f7e319ed8229"
          ]
        }
      },
      "outputs": [
        {
          "name": "stderr",
          "text": "Using the `WANDB_DISABLED` environment variable is deprecated and will be removed in v5. Use the --report_to flag to control the integrations used for logging result (for instance --report_to none).\n",
          "output_type": "stream"
        },
        {
          "output_type": "display_data",
          "data": {
            "text/plain": "Converting train dataset to ChatML:   0%|          | 0/1800 [00:00<?, ? examples/s]",
            "application/vnd.jupyter.widget-view+json": {
              "version_major": 2,
              "version_minor": 0,
              "model_id": "0443f43e03ea433da508426ce2a66b0e"
            }
          },
          "metadata": {}
        },
        {
          "output_type": "display_data",
          "data": {
            "text/plain": "Adding EOS to train dataset:   0%|          | 0/1800 [00:00<?, ? examples/s]",
            "application/vnd.jupyter.widget-view+json": {
              "version_major": 2,
              "version_minor": 0,
              "model_id": "bcebbd93f7a148909930f05eb708ad91"
            }
          },
          "metadata": {}
        },
        {
          "output_type": "display_data",
          "data": {
            "text/plain": "Tokenizing train dataset:   0%|          | 0/1800 [00:00<?, ? examples/s]",
            "application/vnd.jupyter.widget-view+json": {
              "version_major": 2,
              "version_minor": 0,
              "model_id": "89064bea06d34bf89a1d6d042e3b287c"
            }
          },
          "metadata": {}
        },
        {
          "output_type": "display_data",
          "data": {
            "text/plain": "Truncating train dataset:   0%|          | 0/1800 [00:00<?, ? examples/s]",
            "application/vnd.jupyter.widget-view+json": {
              "version_major": 2,
              "version_minor": 0,
              "model_id": "2a7a1162460c41c986ead5fa1d126ba1"
            }
          },
          "metadata": {}
        },
        {
          "output_type": "display_data",
          "data": {
            "text/plain": "Converting eval dataset to ChatML:   0%|          | 0/200 [00:00<?, ? examples/s]",
            "application/vnd.jupyter.widget-view+json": {
              "version_major": 2,
              "version_minor": 0,
              "model_id": "bf4b144efe8e4f1dabd5a3f61c804ed5"
            }
          },
          "metadata": {}
        },
        {
          "output_type": "display_data",
          "data": {
            "text/plain": "Adding EOS to eval dataset:   0%|          | 0/200 [00:00<?, ? examples/s]",
            "application/vnd.jupyter.widget-view+json": {
              "version_major": 2,
              "version_minor": 0,
              "model_id": "9f545e958e8a44cd876727a54a43b604"
            }
          },
          "metadata": {}
        },
        {
          "output_type": "display_data",
          "data": {
            "text/plain": "Tokenizing eval dataset:   0%|          | 0/200 [00:00<?, ? examples/s]",
            "application/vnd.jupyter.widget-view+json": {
              "version_major": 2,
              "version_minor": 0,
              "model_id": "d544f33e6f8a433995cc1e5479b7eba4"
            }
          },
          "metadata": {}
        },
        {
          "output_type": "display_data",
          "data": {
            "text/plain": "Truncating eval dataset:   0%|          | 0/200 [00:00<?, ? examples/s]",
            "application/vnd.jupyter.widget-view+json": {
              "version_major": 2,
              "version_minor": 0,
              "model_id": "be87e7ffe7f84ba5b613f7e319ed8229"
            }
          },
          "metadata": {}
        },
        {
          "name": "stderr",
          "text": "No label_names provided for model class `PeftModelForCausalLM`. Since `PeftModel` hides base models input arguments, if label_names is not given, label_names can't be set automatically within `Trainer`. Note that empty label_names list will be used instead.\n`use_cache=True` is incompatible with gradient checkpointing. Setting `use_cache=False`.\n/usr/local/lib/python3.11/dist-packages/torch/_dynamo/eval_frame.py:745: UserWarning: torch.utils.checkpoint: the use_reentrant parameter should be passed explicitly. In version 2.5 we will raise an exception if use_reentrant is not passed. use_reentrant=False is recommended, but if you need to preserve the current default behavior, you can pass use_reentrant=True. Refer to docs for more details on the differences between the two variants.\n  return fn(*args, **kwargs)\n",
          "output_type": "stream"
        },
        {
          "output_type": "display_data",
          "data": {
            "text/plain": "<IPython.core.display.HTML object>",
            "text/html": "\n    <div>\n      \n      <progress value='225' max='225' style='width:300px; height:20px; vertical-align: middle;'></progress>\n      [225/225 53:45, Epoch 1/1]\n    </div>\n    <table border=\"1\" class=\"dataframe\">\n  <thead>\n <tr style=\"text-align: left;\">\n      <th>Step</th>\n      <th>Training Loss</th>\n    </tr>\n  </thead>\n  <tbody>\n    <tr>\n      <td>10</td>\n      <td>0.899400</td>\n    </tr>\n    <tr>\n      <td>20</td>\n      <td>0.596000</td>\n    </tr>\n    <tr>\n      <td>30</td>\n      <td>0.609200</td>\n    </tr>\n    <tr>\n      <td>40</td>\n      <td>0.642200</td>\n    </tr>\n    <tr>\n      <td>50</td>\n      <td>0.558000</td>\n    </tr>\n    <tr>\n      <td>60</td>\n      <td>0.578400</td>\n    </tr>\n    <tr>\n      <td>70</td>\n      <td>0.558700</td>\n    </tr>\n    <tr>\n      <td>80</td>\n      <td>0.565300</td>\n    </tr>\n    <tr>\n      <td>90</td>\n      <td>0.556300</td>\n    </tr>\n    <tr>\n      <td>100</td>\n      <td>0.531900</td>\n    </tr>\n    <tr>\n      <td>110</td>\n      <td>0.609900</td>\n    </tr>\n    <tr>\n      <td>120</td>\n      <td>0.558000</td>\n    </tr>\n    <tr>\n      <td>130</td>\n      <td>0.532100</td>\n    </tr>\n    <tr>\n      <td>140</td>\n      <td>0.509000</td>\n    </tr>\n    <tr>\n      <td>150</td>\n      <td>0.520700</td>\n    </tr>\n    <tr>\n      <td>160</td>\n      <td>0.503500</td>\n    </tr>\n    <tr>\n      <td>170</td>\n      <td>0.534100</td>\n    </tr>\n    <tr>\n      <td>180</td>\n      <td>0.514100</td>\n    </tr>\n    <tr>\n      <td>190</td>\n      <td>0.549100</td>\n    </tr>\n    <tr>\n      <td>200</td>\n      <td>0.547200</td>\n    </tr>\n    <tr>\n      <td>210</td>\n      <td>0.559200</td>\n    </tr>\n    <tr>\n      <td>220</td>\n      <td>0.524900</td>\n    </tr>\n  </tbody>\n</table><p>"
          },
          "metadata": {}
        },
        {
          "execution_count": 24,
          "output_type": "execute_result",
          "data": {
            "text/plain": "TrainOutput(global_step=225, training_loss=0.5690294573042127, metrics={'train_runtime': 3237.7517, 'train_samples_per_second': 0.556, 'train_steps_per_second': 0.069, 'total_flos': 1.868474063536128e+16, 'train_loss': 0.5690294573042127})"
          },
          "metadata": {}
        }
      ],
      "execution_count": null
    },
    {
      "cell_type": "code",
      "source": [
        "metrics_after = evaluate_model(model, tokenizer, eval_dataset, max_new_tokens=60)"
      ],
      "metadata": {
        "trusted": true,
        "execution": {
          "iopub.status.busy": "2025-05-15T00:36:15.139292Z",
          "iopub.execute_input": "2025-05-15T00:36:15.139545Z",
          "iopub.status.idle": "2025-05-15T00:41:54.385917Z",
          "shell.execute_reply.started": "2025-05-15T00:36:15.139527Z",
          "shell.execute_reply": "2025-05-15T00:41:54.385199Z"
        },
        "id": "Uqbs8-flk6xj",
        "outputId": "5f88c3fb-5f9c-4ae1-fbc7-cdaa54a35648"
      },
      "outputs": [
        {
          "name": "stderr",
          "text": "  0%|          | 0/13 [00:00<?, ?it/s]Setting `pad_token_id` to `eos_token_id`:2 for open-end generation.\n  8%|▊         | 1/13 [00:12<02:29, 12.45s/it]Setting `pad_token_id` to `eos_token_id`:2 for open-end generation.\n 15%|█▌        | 2/13 [00:29<02:47, 15.19s/it]Setting `pad_token_id` to `eos_token_id`:2 for open-end generation.\n 23%|██▎       | 3/13 [00:39<02:06, 12.64s/it]Setting `pad_token_id` to `eos_token_id`:2 for open-end generation.\n 31%|███       | 4/13 [00:48<01:43, 11.53s/it]Setting `pad_token_id` to `eos_token_id`:2 for open-end generation.\n 38%|███▊      | 5/13 [00:57<01:24, 10.62s/it]Setting `pad_token_id` to `eos_token_id`:2 for open-end generation.\n 46%|████▌     | 6/13 [01:06<01:09,  9.93s/it]Setting `pad_token_id` to `eos_token_id`:2 for open-end generation.\n 54%|█████▍    | 7/13 [01:16<00:59,  9.89s/it]Setting `pad_token_id` to `eos_token_id`:2 for open-end generation.\n 62%|██████▏   | 8/13 [01:24<00:46,  9.38s/it]Setting `pad_token_id` to `eos_token_id`:2 for open-end generation.\n 69%|██████▉   | 9/13 [01:33<00:37,  9.35s/it]Setting `pad_token_id` to `eos_token_id`:2 for open-end generation.\n 77%|███████▋  | 10/13 [01:42<00:27,  9.12s/it]Setting `pad_token_id` to `eos_token_id`:2 for open-end generation.\n 85%|████████▍ | 11/13 [01:55<00:20, 10.26s/it]Setting `pad_token_id` to `eos_token_id`:2 for open-end generation.\n 92%|█████████▏| 12/13 [02:09<00:11, 11.54s/it]Setting `pad_token_id` to `eos_token_id`:2 for open-end generation.\n100%|██████████| 13/13 [02:16<00:00, 10.46s/it]\nSome weights of RobertaModel were not initialized from the model checkpoint at roberta-large and are newly initialized: ['pooler.dense.bias', 'pooler.dense.weight']\nYou should probably TRAIN this model on a down-stream task to be able to use it for predictions and inference.\n",
          "output_type": "stream"
        },
        {
          "name": "stdout",
          "text": "\n Average F1 Score:     0.4700\n ROUGE-L Score:        0.4845\n BERTScore (F1):       0.8535\n",
          "output_type": "stream"
        }
      ],
      "execution_count": null
    },
    {
      "cell_type": "code",
      "source": [
        "print(\"Evaluation AFTER fine-tuning:\")\n",
        "print(f\"F1 Score:        {metrics_after['f1']:.4f}\")\n",
        "print(f\"ROUGE-L Score:   {metrics_after['rougeL']:.4f}\")\n",
        "print(f\"BERTScore (F1):  {metrics_after['bertscore_f1']:.4f}\")"
      ],
      "metadata": {
        "trusted": true,
        "execution": {
          "iopub.status.busy": "2025-05-15T00:42:09.495384Z",
          "iopub.execute_input": "2025-05-15T00:42:09.495639Z",
          "iopub.status.idle": "2025-05-15T00:42:09.500606Z",
          "shell.execute_reply.started": "2025-05-15T00:42:09.495623Z",
          "shell.execute_reply": "2025-05-15T00:42:09.499862Z"
        },
        "id": "f6SBNQkXk6xj",
        "outputId": "328f9a76-71ab-43fd-dc09-2c7389f05b5f"
      },
      "outputs": [
        {
          "name": "stdout",
          "text": "Evaluation AFTER fine-tuning:\nF1 Score:        0.4700\nROUGE-L Score:   0.4845\nBERTScore (F1):  0.8535\n",
          "output_type": "stream"
        }
      ],
      "execution_count": null
    },
    {
      "cell_type": "code",
      "source": [
        "import pandas as pd\n",
        "import matplotlib.pyplot as plt\n",
        "\n",
        "metrics = [\"F1 Score\", \"ROUGE-L Score\", \"BERTScore (F1)\"]\n",
        "before = [0.4177, 0.4108, 0.8384]\n",
        "after = [0.4700, 0.4845, 0.8535]\n",
        "\n",
        "comparison_df = pd.DataFrame({\n",
        "    \"Metric\": metrics,\n",
        "    \"Before Fine-Tuning\": before,\n",
        "    \"After Fine-Tuning\": after\n",
        "})\n",
        "\n",
        "print(comparison_df)\n",
        "\n",
        "plt.figure(figsize=(10, 6))\n",
        "x = range(len(metrics))\n",
        "plt.bar(x, before, width=0.4, label='Before Fine-Tuning', align='center')\n",
        "plt.bar([p + 0.4 for p in x], after, width=0.4, label='After Fine-Tuning', align='center')\n",
        "plt.xticks([p + 0.2 for p in x], metrics)\n",
        "plt.ylabel(\"Score\")\n",
        "plt.title(\"Model Performance Before vs. After Fine-Tuning\")\n",
        "plt.legend()\n",
        "plt.grid(axis='y')\n",
        "plt.show()\n"
      ],
      "metadata": {
        "trusted": true,
        "execution": {
          "iopub.status.busy": "2025-05-15T00:46:45.760280Z",
          "iopub.execute_input": "2025-05-15T00:46:45.760547Z",
          "iopub.status.idle": "2025-05-15T00:46:45.922379Z",
          "shell.execute_reply.started": "2025-05-15T00:46:45.760529Z",
          "shell.execute_reply": "2025-05-15T00:46:45.921818Z"
        },
        "id": "0H_iUVbdk6xj",
        "outputId": "be27e89d-cc87-4ff1-b2fc-46ddc8cd3d21"
      },
      "outputs": [
        {
          "name": "stdout",
          "text": "           Metric  Before Fine-Tuning  After Fine-Tuning\n0        F1 Score              0.4177             0.4700\n1   ROUGE-L Score              0.4108             0.4845\n2  BERTScore (F1)              0.8384             0.8535\n",
          "output_type": "stream"
        },
        {
          "output_type": "display_data",
          "data": {
            "text/plain": "<Figure size 1000x600 with 1 Axes>",
            "image/png": "[encoded data removed]"
          },
          "metadata": {}
        }
      ],
      "execution_count": null
    }
  ]
}